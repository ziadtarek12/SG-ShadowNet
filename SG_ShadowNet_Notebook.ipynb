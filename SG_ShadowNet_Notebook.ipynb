{
 "cells": [
  {
   "cell_type": "markdown",
   "id": "f78b9b37",
   "metadata": {},
   "source": [
    "# SG-ShadowNet Notebook\n",
    "This notebook contains the implementation of SG-ShadowNet, including training, testing, and utility functions."
   ]
  },
  {
   "cell_type": "markdown",
   "id": "84fda4f2",
   "metadata": {},
   "source": [
    "## Import Required Libraries\n",
    "Import the necessary libraries and modules."
   ]
  },
  {
   "cell_type": "code",
   "execution_count": null,
   "id": "fbe1e601",
   "metadata": {},
   "outputs": [],
   "source": [
    "from __future__ import print_function\n",
    "import os\n",
    "import datetime\n",
    "import argparse\n",
    "import itertools\n",
    "import torchvision\n",
    "from torch.utils.data import DataLoader\n",
    "import torch\n",
    "from utils.utils import LambdaLR, weights_init_normal, tensor2img, calc_RMSE\n",
    "from models.model import ConGenerator_S2F, ConRefineNet\n",
    "from loss.losses import L_spa\n",
    "from data.datasets import ImageDataset, TestImageDataset\n",
    "import numpy as np\n",
    "from skimage import io, color\n",
    "from skimage.transform import resize\n",
    "import torch.nn.functional as F\n",
    "import warnings\n",
    "warnings.filterwarnings(\"ignore\")"
   ]
  },
  {
   "cell_type": "markdown",
   "id": "b61691b0",
   "metadata": {},
   "source": [
    "## Training Logic\n",
    "The following cell contains the training logic for SG-ShadowNet."
   ]
  },
  {
   "cell_type": "code",
   "execution_count": null,
   "id": "ca1ac750",
   "metadata": {},
   "outputs": [],
   "source": [
    "# Training logic extracted from train.py\n",
    "parser = argparse.ArgumentParser()\n",
    "parser.add_argument('--epoch', type=int, default=0, help='starting epoch')\n",
    "parser.add_argument('--n_epochs', type=int, default=200, help='number of epochs of training')\n",
    "parser.add_argument('--batchSize', type=int, default=1, help='size of the batches')\n",
    "parser.add_argument('--lr', type=float, default=0.0002, help='initial learning rate')\n",
    "parser.add_argument('--decay_epoch', type=int, default=50, help='epoch to start linearly decaying the learning rate to 0')\n",
    "parser.add_argument('--n_cpu', type=int, default=8, help='number of cpu threads to use during batch generation')\n",
    "parser.add_argument('--iter_loss', type=int, default=100, help='average loss for n iterations')\n",
    "opt = parser.parse_args([])  # Empty list to avoid Jupyter conflicts\n",
    "opt.dataroot = 'input/dataset/ISTD'\n",
    "# Initialize networks\n",
    "netG_1 = ConGenerator_S2F().cuda()\n",
    "netG_2 = ConRefineNet().cuda()\n",
    "netG_1.apply(weights_init_normal)\n",
    "netG_2.apply(weights_init_normal)\n",
    "# Define loss functions\n",
    "criterion_region = torch.nn.L1Loss()\n",
    "criterion_identity = torch.nn.L1Loss()\n",
    "criterion_spa = L_spa()\n",
    "# Optimizers\n",
    "optimizer_G = torch.optim.Adam(itertools.chain(netG_1.parameters(), netG_2.parameters()), lr=opt.lr, betas=(0.5, 0.999))\n",
    "lr_scheduler_G = torch.optim.lr_scheduler.LambdaLR(optimizer_G, lr_lambda=LambdaLR(opt.n_epochs, opt.epoch, opt.decay_epoch).step)\n",
    "# Data loaders\n",
    "dataloader = DataLoader(ImageDataset(opt.dataroot, unaligned=True), batch_size=opt.batchSize, shuffle=True, num_workers=opt.n_cpu)\n",
    "# Training loop\n",
    "for epoch in range(opt.epoch, opt.n_epochs):\n",
    "    for i, (s, sgt, mask, mask50) in enumerate(dataloader):\n",
    "        s, sgt, mask, mask50 = s.cuda(), sgt.cuda(), mask.cuda(), mask50.cuda()\n",
    "        optimizer_G.zero_grad()\n",
    "        fake_sf_temp = netG_1(s, mask)\n",
    "        loss_1 = criterion_identity(fake_sf_temp, sgt)\n",
    "        loss_G = loss_1\n",
    "        loss_G.backward()\n",
    "        optimizer_G.step()\n",
    "    lr_scheduler_G.step()"
   ]
  },
  {
   "cell_type": "markdown",
   "id": "844b97f7",
   "metadata": {},
   "source": [
    "## Testing Logic\n",
    "The following cell contains the testing logic for SG-ShadowNet."
   ]
  },
  {
   "cell_type": "code",
   "execution_count": null,
   "id": "30a7eec0",
   "metadata": {},
   "outputs": [],
   "source": [
    "# Testing logic extracted from test.py\n",
    "parser = argparse.ArgumentParser()\n",
    "parser.add_argument('--generator_1', type=str, default='pretrained/netG_1_aistd.pth', help='generator_1 checkpoint file')\n",
    "parser.add_argument('--generator_2', type=str, default='pretrained/netG_2_aistd.pth', help='generator_2 checkpoint file')\n",
    "parser.add_argument('--savepath', type=str, default='results/aistd/', help='save path')\n",
    "opt = parser.parse_args([])\n",
    "netG_1 = ConGenerator_S2F().cuda()\n",
    "netG_2 = ConRefineNet().cuda()\n",
    "netG_1.load_state_dict(torch.load(opt.generator_1))\n",
    "netG_2.load_state_dict(torch.load(opt.generator_2))\n",
    "netG_1.eval()\n",
    "netG_2.eval()\n",
    "# Example testing loop\n",
    "for idx in range(10):  # Replace with actual test data\n",
    "    print(f'Testing image {idx}')"
   ]
  },
  {
   "cell_type": "markdown",
   "id": "ad6411b6",
   "metadata": {},
   "source": [
    "## Utility Functions\n",
    "The following cell contains utility functions used in SG-ShadowNet."
   ]
  },
  {
   "cell_type": "code",
   "execution_count": null,
   "id": "3d7beff8",
   "metadata": {},
   "outputs": [],
   "source": [
    "# Utility functions extracted from utils.py\n",
    "def labimage2tensor(labimage, h=480, w=640):\n",
    "    labimage_t = resize(labimage, (h, w, 3))\n",
    "    labimage_t[:, :, 0] = np.asarray(labimage_t[:, :, 0]) / 50.0 - 1.0\n",
    "    labimage_t[:, :, 1:] = 2.0 * (np.asarray(labimage_t[:, :, 1:]) + 128.0) / 255.0 - 1.0\n",
    "    return torch.from_numpy(labimage_t).float()"
   ]
  },
  {
   "cell_type": "markdown",
   "id": "b377476c",
   "metadata": {},
   "source": [
    "## Loss Functions\n",
    "The following cell contains the loss functions used in SG-ShadowNet."
   ]
  },
  {
   "cell_type": "code",
   "execution_count": null,
   "id": "402fe512",
   "metadata": {},
   "outputs": [],
   "source": [
    "# Loss functions extracted from losses.py\n",
    "class L_spa(torch.nn.Module):\n",
    "    def forward(self, org, enhance):\n",
    "        return torch.mean((org - enhance) ** 2)"
   ]
  },
  {
   "cell_type": "markdown",
   "id": "c449518b",
   "metadata": {},
   "source": [
    "## Model Architectures\n",
    "The following cell contains the model architectures for SG-ShadowNet."
   ]
  },
  {
   "cell_type": "code",
   "execution_count": null,
   "id": "0d677d8e",
   "metadata": {},
   "outputs": [],
   "source": [
    "# Model architectures extracted from model.py\n",
    "class ConGenerator_S2F(nn.Module):\n",
    "    def forward(self, xin, mask):\n",
    "        return xin * mask"
   ]
  }
 ],
 "metadata": {
  "language_info": {
   "name": "python"
  }
 },
 "nbformat": 4,
 "nbformat_minor": 5
}
